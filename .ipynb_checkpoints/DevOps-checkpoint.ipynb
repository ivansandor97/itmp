{
 "cells": [
  {
   "cell_type": "markdown",
   "metadata": {
    "slideshow": {
     "slide_type": "slide"
    }
   },
   "source": [
    "# **DevOps a szakképzésben**\n",
    "##### Englert Ervin\n",
    "***"
   ]
  },
  {
   "cell_type": "markdown",
   "metadata": {
    "slideshow": {
     "slide_type": "slide"
    }
   },
   "source": [
    "![devops](https://github.com/englert/itmp/blob/master/devops.png?raw=true)\n",
    "***"
   ]
  },
  {
   "cell_type": "markdown",
   "metadata": {
    "slideshow": {
     "slide_type": "slide"
    }
   },
   "source": [
    "## **A DevOps módszertan jellemzői**\n",
    "* gyors\n",
    "* nagy teljesítmény\n",
    "* dokumentált\n",
    "* megismételhető\n",
    "***"
   ]
  },
  {
   "cell_type": "markdown",
   "metadata": {
    "slideshow": {
     "slide_type": "slide"
    }
   },
   "source": [
    "## **A DevOps eszözei**\n",
    "\n",
    "* verziókezelés\n",
    "        Git\n",
    "* virtualizálás, konténer technikák\n",
    "        KVM, LxC, LxD, Proxmox, Docker \n",
    "* automatizálás\n",
    "        Ansible\n",
    "* tesztelés\n",
    "* monitorozás\n",
    "\n",
    "***"
   ]
  },
  {
   "cell_type": "markdown",
   "metadata": {},
   "source": [
    "\n",
    "## Mátó Péter: Hogyan legyél DevOps?"
   ]
  },
  {
   "cell_type": "code",
   "execution_count": 10,
   "metadata": {},
   "outputs": [
    {
     "data": {
      "image/jpeg": "[encoded data removed]",
      "text/html": [
       "\n",
       "        <iframe\n",
       "            width=\"800\"\n",
       "            height=\"400\"\n",
       "            src=\"https://www.youtube.com/embed/koip76r6Ba0\"\n",
       "            frameborder=\"0\"\n",
       "            allowfullscreen\n",
       "        ></iframe>\n",
       "        "
      ],
      "text/plain": [
       "<IPython.lib.display.YouTubeVideo at 0x7f4f5463c6d8>"
      ]
     },
     "execution_count": 10,
     "metadata": {},
     "output_type": "execute_result"
    }
   ],
   "source": [
    "from IPython.lib.display import YouTubeVideo\n",
    "YouTubeVideo('koip76r6Ba0',width=800,height=400)"
   ]
  },
  {
   "cell_type": "markdown",
   "metadata": {},
   "source": [
    "***"
   ]
  },
  {
   "cell_type": "markdown",
   "metadata": {},
   "source": [
    "### Feladat: Futtasunk egy docker alapú webszervert az Amazon felhőszolgáltatásán\n",
    "\n",
    "##### Github:\n",
    "* **Hozzunk létre a githubon egy repositoryt nginx néven.**\n",
    "* **Hozzunk létre a githubon egy fájlt Dockerfile néven.**\n",
    "* **Kezdjük szerkeszteni a Dockerfile-t.**\n",
    "* **Ellenőrizzűk a githubon a comittokat.**\n",
    "\n",
    "##### A saját gépen:\n",
    "* **Github repository klónozása a saját gépre:**"
   ]
  },
  {
   "cell_type": "code",
   "execution_count": 11,
   "metadata": {},
   "outputs": [
    {
     "name": "stdout",
     "output_type": "stream",
     "text": [
      "Cloning into 'nginx'...\n",
      "remote: Counting objects: 29, done.\u001b[K\n",
      "remote: Compressing objects: 100% (27/27), done.\u001b[K\n",
      "remote: Total 29 (delta 9), reused 0 (delta 0), pack-reused 0\u001b[K\n",
      "Receiving objects: 100% (29/29), 15.88 KiB | 0 bytes/s, done.\n",
      "Resolving deltas: 100% (9/9), done.\n",
      "Checking connectivity... done.\n"
     ]
    }
   ],
   "source": [
    "\n",
    "!git clone git@github.com:englert/nginx.git\n",
    "#git clone https://github.com/englert/nginx.git"
   ]
  },
  {
   "cell_type": "markdown",
   "metadata": {},
   "source": [
    "* **Wget segítségével \"raboljunk le\" egy weboldalt:**"
   ]
  },
  {
   "cell_type": "code",
   "execution_count": 12,
   "metadata": {},
   "outputs": [],
   "source": [
    "%%bash\n",
    "cd nginx\n",
    "wget https://bmszc-ujpesti.e-kreta.hu -r -q"
   ]
  },
  {
   "cell_type": "code",
   "execution_count": 14,
   "metadata": {},
   "outputs": [
    {
     "name": "stdout",
     "output_type": "stream",
     "text": [
      "bmszc-ujpesti.e-kreta.hu  Dockerfile  README.md\n"
     ]
    }
   ],
   "source": [
    "!ls nginx"
   ]
  },
  {
   "cell_type": "markdown",
   "metadata": {},
   "source": [
    "* **Dockerfile szerkesztése:**"
   ]
  },
  {
   "cell_type": "code",
   "execution_count": 15,
   "metadata": {},
   "outputs": [
    {
     "name": "stdout",
     "output_type": "stream",
     "text": [
      "Overwriting nginx/Dockerfile\n"
     ]
    }
   ],
   "source": [
    "%%file nginx/Dockerfile\n",
    "FROM nginx:latest\n",
    "\n",
    " COPY bmszc-ujpesti.e-kreta.hu /usr/share/nginx/html\n",
    " \n",
    " EXPOSE 80 443     \n",
    "\n",
    " CMD [\"nginx\", \"-g\", \"daemon off;\"]\n",
    "\n"
   ]
  },
  {
   "cell_type": "markdown",
   "metadata": {},
   "source": [
    "* **Készítsük el a docker image-t.**"
   ]
  },
  {
   "cell_type": "code",
   "execution_count": 17,
   "metadata": {},
   "outputs": [
    {
     "name": "stdout",
     "output_type": "stream",
     "text": [
      "Sending build context to Docker daemon  10.89MB\n",
      "Step 1/4 : FROM nginx:latest\n",
      " ---> 7f70b30f2cc6\n",
      "Step 2/4 : COPY bmszc-ujpesti.e-kreta.hu /usr/share/nginx/html\n",
      " ---> 476de10e6126\n",
      "Step 3/4 : EXPOSE 80 443\n",
      " ---> Running in 372a4a63c32d\n",
      "Removing intermediate container 372a4a63c32d\n",
      " ---> a437186927eb\n",
      "Step 4/4 : CMD [\"nginx\", \"-g\", \"daemon off;\"]\n",
      " ---> Running in 0b79cd824ef2\n",
      "Removing intermediate container 0b79cd824ef2\n",
      " ---> 5e61487d20c2\n",
      "Successfully built 5e61487d20c2\n",
      "Successfully tagged englert/nginx:1.0\n"
     ]
    }
   ],
   "source": [
    "%%bash\n",
    "cd nginx\n",
    "docker image build --tag englert/nginx:1.0 ."
   ]
  },
  {
   "cell_type": "markdown",
   "metadata": {},
   "source": [
    "* **Indítsuk el a docker konténert a saját gépünkön.**"
   ]
  },
  {
   "cell_type": "code",
   "execution_count": 18,
   "metadata": {},
   "outputs": [
    {
     "name": "stdout",
     "output_type": "stream",
     "text": [
      "e1a89dea6df58097e31e34e5475a194be03b59e84b147012214232a8f1d88601\n"
     ]
    }
   ],
   "source": [
    "!docker container run --detach -p 80:80 englert/nginx"
   ]
  },
  {
   "cell_type": "markdown",
   "metadata": {},
   "source": [
    "* **Indítsunk el egy böngészőt a 127.0.0.1 címre.**"
   ]
  },
  {
   "cell_type": "code",
   "execution_count": 19,
   "metadata": {},
   "outputs": [],
   "source": [
    "!firefox 127.0.0.1"
   ]
  },
  {
   "cell_type": "markdown",
   "metadata": {},
   "source": [
    "* **A lokális gitben kommittoljuk el a változásokat.**"
   ]
  },
  {
   "cell_type": "code",
   "execution_count": 20,
   "metadata": {},
   "outputs": [
    {
     "name": "stdout",
     "output_type": "stream",
     "text": [
      "[master 97cf906] nginx 1.0\n",
      " 69 files changed, 2858 insertions(+), 3 deletions(-)\n",
      " create mode 100644 bmszc-ujpesti.e-kreta.hu/Adminisztracio/Login/ChangeLanguage/1038\n",
      " create mode 100644 bmszc-ujpesti.e-kreta.hu/App_Themes/Common_Images/flag_hu.png\n",
      " create mode 100644 bmszc-ujpesti.e-kreta.hu/App_Themes/Skin_Kreta_Gfx/content/images/kreta_feher_login.png\n",
      " create mode 100644 bmszc-ujpesti.e-kreta.hu/Content/content/images/Information_icon.png\n",
      " create mode 100644 bmszc-ujpesti.e-kreta.hu/Content/content/images/kreta_feher_innerpages.png\n",
      " create mode 100644 bmszc-ujpesti.e-kreta.hu/Content/content/images/kreta_icon.png\n",
      " create mode 100644 bmszc-ujpesti.e-kreta.hu/Content/content/images/ugyfelszolgalat_icon.png\n",
      " create mode 100644 bmszc-ujpesti.e-kreta.hu/Content/css?v=u1qutpmV-e_XBq8wmPPXbxlfbuQHWeOCluYvOO8bLIk1\n",
      " create mode 100644 bmszc-ujpesti.e-kreta.hu/Content/font-awesome.min.css\n",
      " create mode 100644 bmszc-ujpesti.e-kreta.hu/Content/kendo/2016.2.607/mobile/images/kendoui.svg\n",
      " create mode 100644 bmszc-ujpesti.e-kreta.hu/Content/kendo/2016.2.607/mobile/images/kendoui.ttf?v=1.1\n",
      " create mode 100644 bmszc-ujpesti.e-kreta.hu/Content/kendo/2016.2.607/mobile/images/kendoui.woff?v=1.1\n",
      " create mode 100644 bmszc-ujpesti.e-kreta.hu/Content/kendo/2016.2.607/mobile/images/wp8_icons.png\n",
      " create mode 100644 bmszc-ujpesti.e-kreta.hu/Content/kendo/2016.2.607/mobile/images/wp8_inverseicons.png\n",
      " create mode 100644 bmszc-ujpesti.e-kreta.hu/Content/kendo/2016.2.607/web/Nova/loading-image.gif\n",
      " create mode 100644 bmszc-ujpesti.e-kreta.hu/Content/kendo/2016.2.607/web/Nova/loading.gif\n",
      " create mode 100644 bmszc-ujpesti.e-kreta.hu/Content/kendo/2016.2.607/web/Nova/markers.png\n",
      " create mode 100644 bmszc-ujpesti.e-kreta.hu/Content/kendo/2016.2.607/web/Nova/markers_2x.png\n",
      " create mode 100644 bmszc-ujpesti.e-kreta.hu/Content/kendo/2016.2.607/web/Nova/slider-h.gif\n",
      " create mode 100644 bmszc-ujpesti.e-kreta.hu/Content/kendo/2016.2.607/web/Nova/slider-v.gif\n",
      " create mode 100644 bmszc-ujpesti.e-kreta.hu/Content/kendo/2016.2.607/web/Nova/sprite.png\n",
      " create mode 100644 bmszc-ujpesti.e-kreta.hu/Content/kendo/2016.2.607/web/fonts/DejaVu/DejaVuSans-Bold.ttf?v=1.1\n",
      " create mode 100644 bmszc-ujpesti.e-kreta.hu/Content/kendo/2016.2.607/web/fonts/DejaVu/DejaVuSans-BoldOblique.ttf?v=1.1\n",
      " create mode 100644 bmszc-ujpesti.e-kreta.hu/Content/kendo/2016.2.607/web/fonts/DejaVu/DejaVuSans-Oblique.ttf?v=1.1\n",
      " create mode 100644 bmszc-ujpesti.e-kreta.hu/Content/kendo/2016.2.607/web/fonts/DejaVu/DejaVuSans.ttf?v=1.1\n",
      " create mode 100644 bmszc-ujpesti.e-kreta.hu/Content/kendo/2016.2.607/web/fonts/DejaVu/DejaVuSansMono-Bold.ttf?v=1.1\n",
      " create mode 100644 bmszc-ujpesti.e-kreta.hu/Content/kendo/2016.2.607/web/fonts/DejaVu/DejaVuSansMono-BoldOblique.ttf?v=1.1\n",
      " create mode 100644 bmszc-ujpesti.e-kreta.hu/Content/kendo/2016.2.607/web/fonts/DejaVu/DejaVuSansMono-Oblique.ttf?v=1.1\n",
      " create mode 100644 bmszc-ujpesti.e-kreta.hu/Content/kendo/2016.2.607/web/fonts/DejaVu/DejaVuSansMono.ttf?v=1.1\n",
      " create mode 100644 bmszc-ujpesti.e-kreta.hu/Content/kendo/2016.2.607/web/fonts/DejaVu/DejaVuSerif-Bold.ttf?v=1.1\n",
      " create mode 100644 bmszc-ujpesti.e-kreta.hu/Content/kendo/2016.2.607/web/fonts/DejaVu/DejaVuSerif-BoldItalic.ttf?v=1.1\n",
      " create mode 100644 bmszc-ujpesti.e-kreta.hu/Content/kendo/2016.2.607/web/fonts/DejaVu/DejaVuSerif-Italic.ttf?v=1.1\n",
      " create mode 100644 bmszc-ujpesti.e-kreta.hu/Content/kendo/2016.2.607/web/fonts/DejaVu/DejaVuSerif.ttf?v=1.1\n",
      " create mode 100644 bmszc-ujpesti.e-kreta.hu/Content/kendo/2016.2.607/web/fonts/glyphs/KendoUIGlyphs.eot?\n",
      " create mode 100644 bmszc-ujpesti.e-kreta.hu/Content/kendo/2016.2.607/web/fonts/glyphs/KendoUIGlyphs.eot?-wd8xpd\n",
      " create mode 100644 bmszc-ujpesti.e-kreta.hu/Content/kendo/2016.2.607/web/fonts/glyphs/KendoUIGlyphs.eot?y6oa7j\n",
      " create mode 100644 bmszc-ujpesti.e-kreta.hu/Content/kendo/2016.2.607/web/fonts/glyphs/KendoUIGlyphs.eot?y6oa7j?\n",
      " create mode 100644 bmszc-ujpesti.e-kreta.hu/Content/kendo/2016.2.607/web/fonts/glyphs/KendoUIGlyphs.svg?-wd8xpd\n",
      " create mode 100644 bmszc-ujpesti.e-kreta.hu/Content/kendo/2016.2.607/web/fonts/glyphs/KendoUIGlyphs.svg?y6oa7j\n",
      " create mode 100644 bmszc-ujpesti.e-kreta.hu/Content/kendo/2016.2.607/web/fonts/glyphs/KendoUIGlyphs.ttf?-wd8xpd\n",
      " create mode 100644 bmszc-ujpesti.e-kreta.hu/Content/kendo/2016.2.607/web/fonts/glyphs/KendoUIGlyphs.ttf?y6oa7j\n",
      " create mode 100644 bmszc-ujpesti.e-kreta.hu/Content/kendo/2016.2.607/web/fonts/glyphs/KendoUIGlyphs.woff?-wd8xpd\n",
      " create mode 100644 bmszc-ujpesti.e-kreta.hu/Content/kendo/2016.2.607/web/fonts/glyphs/KendoUIGlyphs.woff?y6oa7j\n",
      " create mode 100644 bmszc-ujpesti.e-kreta.hu/Content/kendo/2016.2.607/web/textures/hue.png\n",
      " create mode 100644 bmszc-ujpesti.e-kreta.hu/Content/kendo/2016.2.607/web/textures/transparency.png\n",
      " create mode 100644 bmszc-ujpesti.e-kreta.hu/Content/kendo/2016.2.607/web/textures/transtexture.png\n",
      " create mode 100644 bmszc-ujpesti.e-kreta.hu/Content/kretaControls?v=u2YU7SoBDogieJkw70w1DawXqZ_KRL-RbTwSTMcAarU1\n",
      " create mode 100644 bmszc-ujpesti.e-kreta.hu/Content/kretaCss?v=05fcj3pRP1xo3auRhtjZh2Q7IboVLYAdlYTTTNzDtD81\n",
      " create mode 100644 bmszc-ujpesti.e-kreta.hu/Scripts/dist/vendor/jquery.min.js\n",
      " create mode 100644 bmszc-ujpesti.e-kreta.hu/bundles/KretaWindowHelper?v=qz8090b7m9CUohvdq0fdhGKxipjVxYCceibt2umzvKA1\n",
      " create mode 100644 bmszc-ujpesti.e-kreta.hu/bundles/js?v=f_gmKKPPJc1XQXjdk5hwy0eeO4QpDIqEZHR0tQZNUFY1\n",
      " create mode 100644 bmszc-ujpesti.e-kreta.hu/bundles/kendo?v=_pqQbVevbXBsnXewrq3LVbXt04DGJ7gAkAyz9WmFG4k1\n",
      " create mode 100644 bmszc-ujpesti.e-kreta.hu/bundles/modernizr?v=Z19okpWwhrnRkOOiXAAY8ZbdXrvrJq8TM0ktld7WsMA1\n",
      " create mode 100644 bmszc-ujpesti.e-kreta.hu/favicon.ico\n",
      " create mode 100644 bmszc-ujpesti.e-kreta.hu/fonts/fontawesome-webfont.eot?\n",
      " create mode 100644 bmszc-ujpesti.e-kreta.hu/fonts/fontawesome-webfont.eot?v=4.4.0\n",
      " create mode 100644 bmszc-ujpesti.e-kreta.hu/fonts/fontawesome-webfont.svg?v=4.4.0\n",
      " create mode 100644 bmszc-ujpesti.e-kreta.hu/fonts/fontawesome-webfont.ttf?v=4.4.0\n",
      " create mode 100644 bmszc-ujpesti.e-kreta.hu/fonts/fontawesome-webfont.woff2?v=4.4.0\n",
      " create mode 100644 bmszc-ujpesti.e-kreta.hu/fonts/fontawesome-webfont.woff?v=4.4.0\n",
      " create mode 100644 bmszc-ujpesti.e-kreta.hu/fonts/glyphicons-halflings-regular.eot\n",
      " create mode 100644 bmszc-ujpesti.e-kreta.hu/fonts/glyphicons-halflings-regular.eot?\n",
      " create mode 100644 bmszc-ujpesti.e-kreta.hu/fonts/glyphicons-halflings-regular.svg\n",
      " create mode 100644 bmszc-ujpesti.e-kreta.hu/fonts/glyphicons-halflings-regular.ttf\n",
      " create mode 100644 bmszc-ujpesti.e-kreta.hu/fonts/glyphicons-halflings-regular.woff\n",
      " create mode 100644 bmszc-ujpesti.e-kreta.hu/fonts/glyphicons-halflings-regular.woff2\n",
      " create mode 100644 bmszc-ujpesti.e-kreta.hu/index.html\n",
      " create mode 100644 bmszc-ujpesti.e-kreta.hu/robots.txt\n"
     ]
    }
   ],
   "source": [
    "%%bash\n",
    "cd nginx\n",
    "git add .\n",
    "git commit -m\"nginx 1.0\""
   ]
  },
  {
   "cell_type": "markdown",
   "metadata": {},
   "source": [
    "* **Toljuk fel a githubra a vátozásokat.**"
   ]
  },
  {
   "cell_type": "code",
   "execution_count": 23,
   "metadata": {},
   "outputs": [
    {
     "name": "stderr",
     "output_type": "stream",
     "text": [
      "Everything up-to-date\n"
     ]
    }
   ],
   "source": [
    "%%bash\n",
    "cd nginx\n",
    "git push"
   ]
  },
  {
   "cell_type": "markdown",
   "metadata": {},
   "source": [
    "* **A Dockerhubon állítsuk be az automa buildet a github repositoryra**"
   ]
  },
  {
   "cell_type": "code",
   "execution_count": 43,
   "metadata": {},
   "outputs": [
    {
     "name": "stdout",
     "output_type": "stream",
     "text": [
      "Overwriting hosts\n"
     ]
    }
   ],
   "source": [
    "%%file hosts\n",
    "\n",
    "#localhost ansible_connection=local\n",
    "docker1 ansible_host=www.unibox.hu ansible_ssh_private_key_file=/home/sis/.ssh/aws.pem\n",
    "\n",
    "[docker]\n",
    "docker1\n",
    "[docker:vars]\n",
    "ansible_port=22 \n",
    "ansible_connection=ssh \n",
    "ansible_python_interpreter=/usr/bin/python3\n",
    "ansible_user=ubuntu\n",
    "ansible_ssh_private_key_file=/home/sis/.ssh/aws.pem\n"
   ]
  },
  {
   "cell_type": "code",
   "execution_count": 90,
   "metadata": {},
   "outputs": [
    {
     "name": "stdout",
     "output_type": "stream",
     "text": [
      "\u001b[0;32mdocker1 | SUCCESS => {\u001b[0m\n",
      "\u001b[0;32m    \"changed\": false,\u001b[0m\n",
      "\u001b[0;32m    \"ping\": \"pong\"\u001b[0m\n",
      "\u001b[0;32m}\u001b[0m\n"
     ]
    }
   ],
   "source": [
    "!ansible -i ./hosts -m ping docker1"
   ]
  },
  {
   "cell_type": "code",
   "execution_count": 91,
   "metadata": {},
   "outputs": [
    {
     "name": "stdout",
     "output_type": "stream",
     "text": [
      "Overwriting docker-nginx-start.yml\n"
     ]
    }
   ],
   "source": [
    "%%file docker-nginx-start.yml\n",
    "---\n",
    "- hosts: docker\n",
    "  remote_user: ubuntu\n",
    "  tasks:\n",
    "  - name: \"Configure app server(s)\"\n",
    "    docker_container:\n",
    "      name: nginx in docker\n",
    "      image: englert/nginx\n",
    "      state: present\n",
    "      restart: yes\n",
    "      ports:\n",
    "      - \"80:80\""
   ]
  },
  {
   "cell_type": "code",
   "execution_count": 92,
   "metadata": {},
   "outputs": [
    {
     "name": "stdout",
     "output_type": "stream",
     "text": [
      "\n",
      "PLAY [docker] ******************************************************************\n",
      "\n",
      "TASK [Gathering Facts] *********************************************************\n",
      "\u001b[0;32mok: [docker1]\u001b[0m\n",
      "\n",
      "PLAY RECAP *********************************************************************\n",
      "\u001b[0;32mdocker1\u001b[0m                    : \u001b[0;32mok=1   \u001b[0m changed=0    unreachable=0    failed=0   \n",
      "\n"
     ]
    }
   ],
   "source": [
    "!ansible-playbook -i ./hosts ./docker-nginx-start.yml -t docker1"
   ]
  },
  {
   "cell_type": "code",
   "execution_count": 76,
   "metadata": {},
   "outputs": [],
   "source": [
    "!firefox www.unibox.hu\n"
   ]
  },
  {
   "cell_type": "code",
   "execution_count": 69,
   "metadata": {},
   "outputs": [
    {
     "name": "stdout",
     "output_type": "stream",
     "text": [
      "Overwriting docker-nginx-stop.yml\n"
     ]
    }
   ],
   "source": [
    "%%file docker-nginx-stop.yml\n",
    "---\n",
    "- hosts: docker\n",
    "  remote_user: ubuntu\n",
    "  tasks:\n",
    "  - name: \"Configure app server(s)\"\n",
    "    docker:\n",
    "      name: nginx in docker\n",
    "      image: englert/nginx\n",
    "      state: stopped\n",
    "      ports:\n",
    "      - \"80:80\""
   ]
  },
  {
   "cell_type": "code",
   "execution_count": 70,
   "metadata": {},
   "outputs": [
    {
     "name": "stdout",
     "output_type": "stream",
     "text": [
      "\u001b[0;35m[DEPRECATION WARNING]: docker is kept for backwards compatibility but usage is \u001b[0m\n",
      "\u001b[0;35mdiscouraged. The module documentation details page may explain more about this \u001b[0m\n",
      "\u001b[0;35mrationale.. This feature will be removed in a future release. Deprecation \u001b[0m\n",
      "\u001b[0;35mwarnings can be disabled by setting deprecation_warnings=False in ansible.cfg.\u001b[0m\n",
      "\n",
      "PLAY [docker] ******************************************************************\n",
      "\n",
      "TASK [Gathering Facts] *********************************************************\n",
      "\u001b[0;32mok: [docker1]\u001b[0m\n",
      "\n",
      "PLAY RECAP *********************************************************************\n",
      "\u001b[0;32mdocker1\u001b[0m                    : \u001b[0;32mok=1   \u001b[0m changed=0    unreachable=0    failed=0   \n",
      "\n"
     ]
    }
   ],
   "source": [
    "!ansible-playbook -i ./hosts ./docker-nginx-stop.yml -t docker1"
   ]
  },
  {
   "cell_type": "code",
   "execution_count": 71,
   "metadata": {},
   "outputs": [],
   "source": [
    "!firefox www.unibox.hu"
   ]
  },
  {
   "cell_type": "code",
   "execution_count": null,
   "metadata": {},
   "outputs": [],
   "source": []
  }
 ],
 "metadata": {
  "kernelspec": {
   "display_name": "Python 3",
   "language": "python",
   "name": "python3"
  },
  "language_info": {
   "codemirror_mode": {
    "name": "ipython",
    "version": 3
   },
   "file_extension": ".py",
   "mimetype": "text/x-python",
   "name": "python",
   "nbconvert_exporter": "python",
   "pygments_lexer": "ipython3",
   "version": "3.5.2"
  }
 },
 "nbformat": 4,
 "nbformat_minor": 2
}
